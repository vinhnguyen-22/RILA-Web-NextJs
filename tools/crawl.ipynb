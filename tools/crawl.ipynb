{
 "cells": [
  {
   "cell_type": "code",
   "execution_count": 5,
   "metadata": {},
   "outputs": [
    {
     "name": "stdout",
     "output_type": "stream",
     "text": [
      "Đổi tên các file ảnh thành đuôi .png hoàn thành.\n"
     ]
    }
   ],
   "source": [
    "import os\n",
    "\n",
    "path = \"D:\\\\Code\\\\MyProject\\\\rila\\\\public\\\\images\\\\about-us\\\\news\"\n",
    "new_extension = \".png\"\n",
    "\n",
    "for filename in os.listdir(path):\n",
    "    if filename.endswith((\".jpg\",\".png\", \".jpeg\", \".gif\")):\n",
    "        new_filename = \"news_\" + os.path.splitext(filename)[0] + new_extension\n",
    "        os.rename(os.path.join(path, filename), os.path.join(path, new_filename))\n",
    "\n",
    "print(\"Đổi tên các file ảnh thành đuôi .png hoàn thành.\")\n"
   ]
  },
  {
   "cell_type": "code",
   "execution_count": 1,
   "metadata": {},
   "outputs": [
    {
     "name": "stdout",
     "output_type": "stream",
     "text": [
      "Danh sách tên các tệp ảnh:\n",
      "news_1.png\n",
      "news_10.png\n",
      "news_11.png\n",
      "news_12.png\n",
      "news_13.png\n",
      "news_14.png\n",
      "news_15.png\n",
      "news_16.png\n",
      "news_2.png\n",
      "news_3.png\n",
      "news_4.png\n",
      "news_5.png\n",
      "news_6.png\n",
      "news_7.png\n",
      "news_8.png\n",
      "news_9.png\n"
     ]
    }
   ],
   "source": [
    "import os\n",
    "\n",
    "path = \"D:\\\\Code\\\\MyProject\\\\rila\\\\public\\\\images\\\\about-us\\\\news\"\n",
    "image_extensions = (\".jpg\", \".jpeg\", \".png\", \".gif\")\n",
    "\n",
    "image_filenames = [filename for filename in os.listdir(path) if filename.endswith(image_extensions)]\n",
    "\n",
    "print(\"Danh sách tên các tệp ảnh:\")\n",
    "for filename in image_filenames:\n",
    "    print(filename)\n"
   ]
  }
 ],
 "metadata": {
  "kernelspec": {
   "display_name": "Python 3",
   "language": "python",
   "name": "python3"
  },
  "language_info": {
   "codemirror_mode": {
    "name": "ipython",
    "version": 3
   },
   "file_extension": ".py",
   "mimetype": "text/x-python",
   "name": "python",
   "nbconvert_exporter": "python",
   "pygments_lexer": "ipython3",
   "version": "3.10.11"
  },
  "orig_nbformat": 4
 },
 "nbformat": 4,
 "nbformat_minor": 2
}
