{
 "cells": [
  {
   "cell_type": "code",
   "execution_count": 4,
   "metadata": {},
   "outputs": [
    {
     "name": "stdout",
     "output_type": "stream",
     "text": [
      "Đổi tên các file ảnh thành đuôi .png hoàn thành.\n"
     ]
    }
   ],
   "source": [
    "import os\n",
    "\n",
    "path = \"D:\\\\Code\\\\MyProject\\\\rila\\\\public\\\\images\\\\about-us\\\\team\"\n",
    "new_extension = \".png\"\n",
    "\n",
    "for filename in os.listdir(path):\n",
    "    if filename.endswith((\".jpg\", \".jpeg\", \".gif\")):\n",
    "        new_filename = os.path.splitext(filename)[0] + new_extension\n",
    "        os.rename(os.path.join(path, filename), os.path.join(path, new_filename))\n",
    "\n",
    "print(\"Đổi tên các file ảnh thành đuôi .png hoàn thành.\")\n"
   ]
  },
  {
   "cell_type": "code",
   "execution_count": 5,
   "metadata": {},
   "outputs": [
    {
     "name": "stdout",
     "output_type": "stream",
     "text": [
      "Danh sách tên các tệp ảnh:\n",
      "Agata Dec.png\n",
      "Cherry Stokes.png\n",
      "Clare Busca.png\n",
      "Grace Smith.png\n",
      "hamish allen.png\n",
      "Jamme Wyneth Martinez.png\n",
      "Jessica Thomas.png\n",
      "Mahetap Khalifa .png\n",
      "Ngan Ho.png\n",
      "Rebecca Evans.png\n",
      "Sami Khoury.png\n",
      "Thasya Putri.png\n",
      "Zara Ahmed.png\n"
     ]
    }
   ],
   "source": [
    "import os\n",
    "\n",
    "path = \"D:\\\\Code\\\\MyProject\\\\rila\\\\public\\\\images\\\\about-us\\\\team\"\n",
    "image_extensions = (\".jpg\", \".jpeg\", \".png\", \".gif\")\n",
    "\n",
    "image_filenames = [filename for filename in os.listdir(path) if filename.endswith(image_extensions)]\n",
    "\n",
    "print(\"Danh sách tên các tệp ảnh:\")\n",
    "for filename in image_filenames:\n",
    "    print(filename)\n"
   ]
  }
 ],
 "metadata": {
  "kernelspec": {
   "display_name": "Python 3",
   "language": "python",
   "name": "python3"
  },
  "language_info": {
   "codemirror_mode": {
    "name": "ipython",
    "version": 3
   },
   "file_extension": ".py",
   "mimetype": "text/x-python",
   "name": "python",
   "nbconvert_exporter": "python",
   "pygments_lexer": "ipython3",
   "version": "3.10.11"
  },
  "orig_nbformat": 4
 },
 "nbformat": 4,
 "nbformat_minor": 2
}
