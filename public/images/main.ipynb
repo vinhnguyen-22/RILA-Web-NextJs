{
 "cells": [
  {
   "cell_type": "code",
   "execution_count": 1,
   "metadata": {},
   "outputs": [],
   "source": [
    "import os\n",
    "import shutil\n",
    "\n",
    "folder_path =  './case-study'\n",
    "def rename_files_with_space_to_dash(folder_path):\n",
    "    for file_name in os.listdir(folder_path):\n",
    "        if os.path.isfile(os.path.join(folder_path, file_name)):\n",
    "            new_file_name = file_name.replace(' ', '-').lower()\n",
    "            os.rename(os.path.join(folder_path, file_name), os.path.join(folder_path, new_file_name))\n",
    "\n",
    "rename_files_with_space_to_dash(folder_path)\n"
   ]
  },
  {
   "cell_type": "code",
   "execution_count": 4,
   "metadata": {},
   "outputs": [
    {
     "name": "stdout",
     "output_type": "stream",
     "text": [
      "['./case-study/gsma.png', './case-study/hershey.png', './case-study/lillets.png', './case-study/oreo.png', './case-study/stantander.png', './case-study/toyota.png', './case-study/unhcr.png', './case-study/vegetarian.png']\n"
     ]
    }
   ],
   "source": [
    "\n",
    "\n",
    "def get_file_names_in_folder(folder_path):\n",
    "    file_names = []\n",
    "    for file_name in os.listdir(folder_path):\n",
    "        if os.path.isfile(os.path.join(folder_path, file_name)):\n",
    "            file_names.append(folder_path + \"/\" + file_name)\n",
    "    return file_names\n",
    "\n",
    "file_names_in_folder = get_file_names_in_folder(folder_path)\n",
    "print( file_names_in_folder)\n"
   ]
  }
 ],
 "metadata": {
  "kernelspec": {
   "display_name": "Python 3",
   "language": "python",
   "name": "python3"
  },
  "language_info": {
   "codemirror_mode": {
    "name": "ipython",
    "version": 3
   },
   "file_extension": ".py",
   "mimetype": "text/x-python",
   "name": "python",
   "nbconvert_exporter": "python",
   "pygments_lexer": "ipython3",
   "version": "3.11.4"
  },
  "orig_nbformat": 4
 },
 "nbformat": 4,
 "nbformat_minor": 2
}
