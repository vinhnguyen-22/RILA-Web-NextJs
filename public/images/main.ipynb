{
 "cells": [
  {
   "cell_type": "code",
   "execution_count": 4,
   "metadata": {},
   "outputs": [],
   "source": [
    "import os\n",
    "import shutil\n",
    "\n",
    "def rename_files_with_space_to_dash(folder_path):\n",
    "    for file_name in os.listdir(folder_path):\n",
    "        if os.path.isfile(os.path.join(folder_path, file_name)):\n",
    "            new_file_name = file_name.replace(' ', '-')\n",
    "            os.rename(os.path.join(folder_path, file_name), os.path.join(folder_path, new_file_name))\n",
    "\n",
    "# Thay đổi đường dẫn 'folder_path' thành đường dẫn thư mục của bạn\n",
    "folder_path = './case-study'\n",
    "rename_files_with_space_to_dash(folder_path)\n"
   ]
  },
  {
   "cell_type": "code",
   "execution_count": 5,
   "metadata": {},
   "outputs": [
    {
     "name": "stdout",
     "output_type": "stream",
     "text": [
      "['image-15.png', 'image-16.png', 'image-17.png', 'image-18.png', 'image-19.png', 'image-20.png', 'image-21.png', 'image-22.png']\n"
     ]
    }
   ],
   "source": [
    "import os\n",
    "\n",
    "def get_file_names_in_folder(folder_path):\n",
    "    file_names = []\n",
    "    for file_name in os.listdir(folder_path):\n",
    "        if os.path.isfile(os.path.join(folder_path, file_name)):\n",
    "            file_names.append(file_name)\n",
    "    return file_names\n",
    "\n",
    "# Thay đổi đường dẫn 'folder_path' thành đường dẫn thư mục của bạn\n",
    "folder_path = './case-study'\n",
    "file_names_in_folder = get_file_names_in_folder(folder_path)\n",
    "print(file_names_in_folder)\n"
   ]
  }
 ],
 "metadata": {
  "kernelspec": {
   "display_name": "Python 3",
   "language": "python",
   "name": "python3"
  },
  "language_info": {
   "codemirror_mode": {
    "name": "ipython",
    "version": 3
   },
   "file_extension": ".py",
   "mimetype": "text/x-python",
   "name": "python",
   "nbconvert_exporter": "python",
   "pygments_lexer": "ipython3",
   "version": "3.11.4"
  },
  "orig_nbformat": 4
 },
 "nbformat": 4,
 "nbformat_minor": 2
}
