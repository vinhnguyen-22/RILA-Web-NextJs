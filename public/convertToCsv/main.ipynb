{
 "cells": [
  {
   "cell_type": "code",
   "execution_count": 3,
   "metadata": {},
   "outputs": [
    {
     "name": "stdout",
     "output_type": "stream",
     "text": [
      "Collecting BeautifulSoup"
     ]
    },
    {
     "name": "stderr",
     "output_type": "stream",
     "text": [
      "  error: subprocess-exited-with-error\n",
      "  \n",
      "  × python setup.py egg_info did not run successfully.\n",
      "  │ exit code: 1\n",
      "  ╰─> [7 lines of output]\n",
      "      Traceback (most recent call last):\n",
      "        File \"<string>\", line 2, in <module>\n",
      "        File \"<pip-setuptools-caller>\", line 34, in <module>\n",
      "        File \"C:\\Users\\ACER\\AppData\\Local\\Temp\\pip-install-o420a9m1\\beautifulsoup_f357bc3df94a4c05ad61a7a174a91fc9\\setup.py\", line 3\n",
      "          \"You're trying to run a very old release of Beautiful Soup under Python 3. This will not work.\"<>\"Please use Beautiful Soup 4, available through the pip package 'beautifulsoup4'.\"\n",
      "                                                                                                         ^^\n",
      "      SyntaxError: invalid syntax\n",
      "      [end of output]\n",
      "  \n",
      "  note: This error originates from a subprocess, and is likely not a problem with pip.\n",
      "error: metadata-generation-failed\n",
      "\n",
      "× Encountered error while generating package metadata.\n",
      "╰─> See above for output.\n",
      "\n",
      "note: This is an issue with the package mentioned above, not pip.\n",
      "hint: See above for details.\n",
      "\n",
      "[notice] A new release of pip is available: 23.0.1 -> 23.2.1\n",
      "[notice] To update, run: C:\\Users\\ACER\\AppData\\Local\\Microsoft\\WindowsApps\\PythonSoftwareFoundation.Python.3.10_qbz5n2kfra8p0\\python.exe -m pip install --upgrade pip\n"
     ]
    },
    {
     "name": "stdout",
     "output_type": "stream",
     "text": [
      "\n",
      "  Downloading BeautifulSoup-3.2.2.tar.gz (32 kB)\n",
      "  Preparing metadata (setup.py): started\n",
      "  Preparing metadata (setup.py): finished with status 'error'\n",
      "Collecting markdownify\n",
      "  Downloading markdownify-0.11.6-py3-none-any.whl (16 kB)\n",
      "Collecting beautifulsoup4<5,>=4.9\n",
      "  Using cached beautifulsoup4-4.12.2-py3-none-any.whl (142 kB)\n",
      "Requirement already satisfied: six<2,>=1.15 in c:\\users\\acer\\appdata\\local\\packages\\pythonsoftwarefoundation.python.3.10_qbz5n2kfra8p0\\localcache\\local-packages\\python310\\site-packages (from markdownify) (1.16.0)\n",
      "Collecting soupsieve>1.2\n",
      "  Using cached soupsieve-2.4.1-py3-none-any.whl (36 kB)\n",
      "Installing collected packages: soupsieve, beautifulsoup4, markdownify\n",
      "Successfully installed beautifulsoup4-4.12.2 markdownify-0.11.6 soupsieve-2.4.1\n"
     ]
    },
    {
     "name": "stderr",
     "output_type": "stream",
     "text": [
      "\n",
      "[notice] A new release of pip is available: 23.0.1 -> 23.2.1\n",
      "[notice] To update, run: C:\\Users\\ACER\\AppData\\Local\\Microsoft\\WindowsApps\\PythonSoftwareFoundation.Python.3.10_qbz5n2kfra8p0\\python.exe -m pip install --upgrade pip\n"
     ]
    }
   ],
   "source": [
    "!pip install BeautifulSoup\n",
    "!pip install markdownify"
   ]
  },
  {
   "cell_type": "code",
   "execution_count": 15,
   "metadata": {},
   "outputs": [],
   "source": [
    "\n",
    "import pandas as pd\n",
    "import json\n",
    "from bs4 import BeautifulSoup\n",
    "from markdownify import markdownify as md_converter"
   ]
  },
  {
   "cell_type": "code",
   "execution_count": 21,
   "metadata": {},
   "outputs": [
    {
     "ename": "TypeError",
     "evalue": "'NoneType' object is not callable",
     "output_type": "error",
     "traceback": [
      "\u001b[1;31m---------------------------------------------------------------------------\u001b[0m",
      "\u001b[1;31mTypeError\u001b[0m                                 Traceback (most recent call last)",
      "Cell \u001b[1;32mIn[21], line 80\u001b[0m\n\u001b[0;32m     77\u001b[0m     \u001b[39mprint\u001b[39m(\u001b[39m\"\u001b[39m\u001b[39mCSV file created successfully.\u001b[39m\u001b[39m\"\u001b[39m)\n\u001b[0;32m     79\u001b[0m \u001b[39m# Call the function with the given data.json file\u001b[39;00m\n\u001b[1;32m---> 80\u001b[0m convert_json_to_csv(\u001b[39m\"\u001b[39;49m\u001b[39mblog.json\u001b[39;49m\u001b[39m\"\u001b[39;49m)\n",
      "Cell \u001b[1;32mIn[21], line 32\u001b[0m, in \u001b[0;36mconvert_json_to_csv\u001b[1;34m(data_json)\u001b[0m\n\u001b[0;32m     30\u001b[0m content_html \u001b[39m=\u001b[39m BeautifulSoup(encoded_data, \u001b[39m'\u001b[39m\u001b[39mhtml.parser\u001b[39m\u001b[39m'\u001b[39m)\n\u001b[0;32m     31\u001b[0m \u001b[39mif\u001b[39;00m(content_html):\n\u001b[1;32m---> 32\u001b[0m     content_md \u001b[39m=\u001b[39m md_converter(content_html)\n\u001b[0;32m     33\u001b[0m \u001b[39melse\u001b[39;00m:\n\u001b[0;32m     34\u001b[0m     content_md \u001b[39m=\u001b[39m\u001b[39m\"\u001b[39m\u001b[39m\"\u001b[39m\n",
      "File \u001b[1;32m~\\AppData\\Local\\Packages\\PythonSoftwareFoundation.Python.3.10_qbz5n2kfra8p0\\LocalCache\\local-packages\\Python310\\site-packages\\markdownify\\__init__.py:395\u001b[0m, in \u001b[0;36mmarkdownify\u001b[1;34m(html, **options)\u001b[0m\n\u001b[0;32m    394\u001b[0m \u001b[39mdef\u001b[39;00m \u001b[39mmarkdownify\u001b[39m(html, \u001b[39m*\u001b[39m\u001b[39m*\u001b[39moptions):\n\u001b[1;32m--> 395\u001b[0m     \u001b[39mreturn\u001b[39;00m MarkdownConverter(\u001b[39m*\u001b[39;49m\u001b[39m*\u001b[39;49moptions)\u001b[39m.\u001b[39;49mconvert(html)\n",
      "File \u001b[1;32m~\\AppData\\Local\\Packages\\PythonSoftwareFoundation.Python.3.10_qbz5n2kfra8p0\\LocalCache\\local-packages\\Python310\\site-packages\\markdownify\\__init__.py:96\u001b[0m, in \u001b[0;36mMarkdownConverter.convert\u001b[1;34m(self, html)\u001b[0m\n\u001b[0;32m     95\u001b[0m \u001b[39mdef\u001b[39;00m \u001b[39mconvert\u001b[39m(\u001b[39mself\u001b[39m, html):\n\u001b[1;32m---> 96\u001b[0m     soup \u001b[39m=\u001b[39m BeautifulSoup(html, \u001b[39m'\u001b[39;49m\u001b[39mhtml.parser\u001b[39;49m\u001b[39m'\u001b[39;49m)\n\u001b[0;32m     97\u001b[0m     \u001b[39mreturn\u001b[39;00m \u001b[39mself\u001b[39m\u001b[39m.\u001b[39mconvert_soup(soup)\n",
      "File \u001b[1;32m~\\AppData\\Local\\Packages\\PythonSoftwareFoundation.Python.3.10_qbz5n2kfra8p0\\LocalCache\\local-packages\\Python310\\site-packages\\bs4\\__init__.py:314\u001b[0m, in \u001b[0;36mBeautifulSoup.__init__\u001b[1;34m(self, markup, features, builder, parse_only, from_encoding, exclude_encodings, element_classes, **kwargs)\u001b[0m\n\u001b[0;32m    311\u001b[0m \u001b[39mself\u001b[39m\u001b[39m.\u001b[39mparse_only \u001b[39m=\u001b[39m parse_only\n\u001b[0;32m    313\u001b[0m \u001b[39mif\u001b[39;00m \u001b[39mhasattr\u001b[39m(markup, \u001b[39m'\u001b[39m\u001b[39mread\u001b[39m\u001b[39m'\u001b[39m):        \u001b[39m# It's a file-type object.\u001b[39;00m\n\u001b[1;32m--> 314\u001b[0m     markup \u001b[39m=\u001b[39m markup\u001b[39m.\u001b[39;49mread()\n\u001b[0;32m    315\u001b[0m \u001b[39melif\u001b[39;00m \u001b[39mlen\u001b[39m(markup) \u001b[39m<\u001b[39m\u001b[39m=\u001b[39m \u001b[39m256\u001b[39m \u001b[39mand\u001b[39;00m (\n\u001b[0;32m    316\u001b[0m         (\u001b[39misinstance\u001b[39m(markup, \u001b[39mbytes\u001b[39m) \u001b[39mand\u001b[39;00m \u001b[39mnot\u001b[39;00m \u001b[39mb\u001b[39m\u001b[39m'\u001b[39m\u001b[39m<\u001b[39m\u001b[39m'\u001b[39m \u001b[39min\u001b[39;00m markup)\n\u001b[0;32m    317\u001b[0m         \u001b[39mor\u001b[39;00m (\u001b[39misinstance\u001b[39m(markup, \u001b[39mstr\u001b[39m) \u001b[39mand\u001b[39;00m \u001b[39mnot\u001b[39;00m \u001b[39m'\u001b[39m\u001b[39m<\u001b[39m\u001b[39m'\u001b[39m \u001b[39min\u001b[39;00m markup)\n\u001b[1;32m   (...)\u001b[0m\n\u001b[0;32m    321\u001b[0m     \u001b[39m# Beautiful Soup will still parse the input as markup,\u001b[39;00m\n\u001b[0;32m    322\u001b[0m     \u001b[39m# since that is sometimes the intended behavior.\u001b[39;00m\n\u001b[0;32m    323\u001b[0m     \u001b[39mif\u001b[39;00m \u001b[39mnot\u001b[39;00m \u001b[39mself\u001b[39m\u001b[39m.\u001b[39m_markup_is_url(markup):\n",
      "\u001b[1;31mTypeError\u001b[0m: 'NoneType' object is not callable"
     ]
    }
   ],
   "source": [
    "import pandas as pd\n",
    "import json\n",
    "\n",
    "def extract_cdata(element):\n",
    "    return element['__cdata'] if isinstance(element, dict) else element\n",
    "\n",
    "def convert_json_to_csv(data_json):\n",
    "    # Load JSON data from file\n",
    "    with open(data_json, 'r', encoding='utf-8') as file:\n",
    "        json_data = json.load(file)\n",
    "\n",
    "    # Initialize lists to store extracted data\n",
    "    titles = []\n",
    "    links = []\n",
    "    pub_dates = []\n",
    "    descriptions = []\n",
    "    encoded_data_list = []\n",
    "    post_dates = []\n",
    "    post_modified_list = []\n",
    "    post_names = []\n",
    "    statuses = []\n",
    "    categories = []\n",
    "\n",
    "    # Extract data from each object in the array\n",
    "    for item in json_data['item']:\n",
    "        title = extract_cdata(item['title'])\n",
    "        link = item['link']\n",
    "        pub_date = extract_cdata(item['pubDate'])\n",
    "        description = extract_cdata(item['description'])\n",
    "        encoded_data = extract_cdata(item['encoded'][0])\n",
    "        post_date = extract_cdata(item['post_date'])\n",
    "        post_modified = extract_cdata(item['post_modified'])\n",
    "        post_name = extract_cdata(item['post_name'])\n",
    "        print(item['status'])\n",
    "        status = extract_cdata(\"Yes\" if item['status']['__cdata'] == \"publish\" else \"No\")\n",
    "\n",
    "        # Check if the 'category' key exists and handle accordingly\n",
    "        if 'category' in item:\n",
    "            category_list = item['category']\n",
    "            category_str = ', '.join(extract_cdata(cat) for cat in category_list)\n",
    "        else:\n",
    "            category_str = \"N/A\"  # or category_str = None if you prefer\n",
    "\n",
    "        # Append data to the corresponding lists\n",
    "        titles.append(title)\n",
    "        links.append(link)\n",
    "        pub_dates.append(pub_date)\n",
    "        descriptions.append(description)\n",
    "        encoded_data_list.append(encoded_data)\n",
    "        post_dates.append(post_date)\n",
    "        post_modified_list.append(post_modified)\n",
    "        post_names.append(post_name)\n",
    "        statuses.append(status)\n",
    "        categories.append(category_str)\n",
    "\n",
    "    # Create a DataFrame\n",
    "    df = pd.DataFrame({\n",
    "        \"title\": titles,\n",
    "        # \"slug\": links,\n",
    "        \"date\": pub_dates,\n",
    "        \"summary\": descriptions,\n",
    "        \"content\": encoded_data_list,\n",
    "        # \"Post Date\": post_dates,\n",
    "        \"lastEditedAt\": post_modified_list,\n",
    "        \"slug\": post_names,\n",
    "        \"published\": statuses,\n",
    "        \"tags\": categories\n",
    "    })\n",
    "\n",
    "    # Export DataFrame to CSV file\n",
    "    df.to_csv(\"output.csv\", index=False)\n",
    "\n",
    "    print(\"CSV file created successfully.\")\n",
    "\n",
    "# Call the function with the given data.json file\n",
    "convert_json_to_csv(\"blog.json\")\n"
   ]
  },
  {
   "cell_type": "code",
   "execution_count": null,
   "metadata": {},
   "outputs": [],
   "source": []
  }
 ],
 "metadata": {
  "kernelspec": {
   "display_name": "Python 3",
   "language": "python",
   "name": "python3"
  },
  "language_info": {
   "codemirror_mode": {
    "name": "ipython",
    "version": 3
   },
   "file_extension": ".py",
   "mimetype": "text/x-python",
   "name": "python",
   "nbconvert_exporter": "python",
   "pygments_lexer": "ipython3",
   "version": "3.10.11"
  },
  "orig_nbformat": 4
 },
 "nbformat": 4,
 "nbformat_minor": 2
}
